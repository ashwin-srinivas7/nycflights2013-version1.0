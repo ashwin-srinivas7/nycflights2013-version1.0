{
 "cells": [
  {
   "cell_type": "markdown",
   "metadata": {},
   "source": [
    "###### Problem Set 1, due January 10th at 5:30pm \n",
    "\n",
    "\n",
    "###Before You Start\n",
    "Make sure to at least take a basic tutorial in the IPython notebook, otherwise you'll be totally lost.  For this problem set, you should download IMT574-PS1.ipynb and the flights.zip dataset from Canvas. Create a local copy of the notebook and rename it LASTNAME_FIRSTNAME-PS1.ipynb. Then edit your renamed file directly in your browser by typing:\n",
    "```\n",
    "ipython notebook <name_of_downloaded_file>\n",
    "```\n",
    "\n",
    "You should also make sure the following libraries load correctly (click on the box below and hit Ctrl-Enter)"
   ]
  },
  {
   "cell_type": "code",
   "execution_count": 3,
   "metadata": {},
   "outputs": [],
   "source": [
    "# #IPython is what you are using now to run the notebook\n",
    "# import IPython\n",
    "# print \"IPython version:      %6.6s (need at least 1.0)\" % IPython.__version__\n",
    "\n",
    "# Numpy is a library for working with Arrays\n",
    "import numpy as np\n",
    "#print(\"Numpy version:        %6.6s (need at least 1.7.1)\") % np.__version__\n",
    "\n",
    "# SciPy implements many different numerical algorithms\n",
    "import scipy as sp\n",
    "#print(\"SciPy version:        %6.6s (need at least 0.12.0)\") % sp.__version__\n",
    "\n",
    "# Pandas makes working with data tables easier\n",
    "import pandas as pd\n",
    "#print(\"Pandas version:       %6.6s (need at least 0.11.0)\") % pd.__version__\n",
    "\n",
    "# Module for plotting\n",
    "import matplotlib\n",
    "#print(\"Mapltolib version:    %6.6s (need at least 1.2.1)\") % matplotlib.__version__\n",
    "\n",
    "# SciKit Learn implements several Machine Learning algorithms\n",
    "import sklearn\n",
    "#print(\"Scikit-Learn version: %6.6s (need at least 0.13.1)\") % sklearn.__version__"
   ]
  },
  {
   "cell_type": "markdown",
   "metadata": {},
   "source": [
    "##About the Problem Set: \n",
    "This is the same problem set used by Emma Spiro in INFX573. The only difference is that instead of doing the problem set in R, you will use Python and the IPython notebook.\n",
    "\n",
    "##Instructions: \n",
    "In this problem set you will perform a basic exploratory analysis on an example dataset, bringing to bear all of your new skills in data manipulation and visualization. You will be required to submit well commented python code, documenting all code used in this problem set, along with a write up answering all questions below. Use figures as appropriate to support your answers, and when required by the problem. \n",
    "This data set uses the NYCFlights13 dataset. You can download the dataset from canvas.\n",
    "Selected questions ask you to answer in multiple ways. Make sure to provide different functions or ways for answering the same question. This will help you see that most data questions can be answered in different ways even with the same software language."
   ]
  },
  {
   "cell_type": "code",
   "execution_count": 4,
   "metadata": {},
   "outputs": [],
   "source": [
    "import pandas as pd\n",
    "import numpy as np\n",
    "import matplotlib.pyplot as plt\n",
    "from tkinter import Tk\n",
    "from tkinter.filedialog import askopenfilename"
   ]
  },
  {
   "cell_type": "code",
   "execution_count": 5,
   "metadata": {},
   "outputs": [],
   "source": [
    "Tk().withdraw() # we don't want a full GUI, so keep the root window from appearing\n",
    "filename = askopenfilename() # show an \"Open\" dialog box and return the path to the selected file\n",
    "flights_df=pd.read_csv(filename)"
   ]
  },
  {
   "cell_type": "code",
   "execution_count": 5,
   "metadata": {},
   "outputs": [
    {
     "name": "stdout",
     "output_type": "stream",
     "text": [
      "(336776, 17)\n",
      "Index(['Unnamed: 0', 'year', 'month', 'day', 'dep_time', 'dep_delay',\n",
      "       'arr_time', 'arr_delay', 'carrier', 'tailnum', 'flight', 'origin',\n",
      "       'dest', 'air_time', 'distance', 'hour', 'minute'],\n",
      "      dtype='object')\n"
     ]
    }
   ],
   "source": [
    "print(flights_df.shape) #dimensions\n",
    "print(flights_df.columns) #column names"
   ]
  },
  {
   "cell_type": "code",
   "execution_count": 6,
   "metadata": {},
   "outputs": [
    {
     "name": "stdout",
     "output_type": "stream",
     "text": [
      "Unnamed: 0      int64\n",
      "year            int64\n",
      "month           int64\n",
      "day             int64\n",
      "dep_time      float64\n",
      "dep_delay     float64\n",
      "arr_time      float64\n",
      "arr_delay     float64\n",
      "carrier        object\n",
      "tailnum        object\n",
      "flight          int64\n",
      "origin         object\n",
      "dest           object\n",
      "air_time      float64\n",
      "distance        int64\n",
      "hour          float64\n",
      "minute        float64\n",
      "dtype: object\n"
     ]
    }
   ],
   "source": [
    "print(flights_df.dtypes)\n"
   ]
  },
  {
   "cell_type": "code",
   "execution_count": 7,
   "metadata": {},
   "outputs": [
    {
     "name": "stdout",
     "output_type": "stream",
     "text": [
      "['IAH' 'MIA' 'BQN' 'ATL' 'ORD' 'FLL' 'IAD' 'MCO' 'PBI' 'TPA' 'LAX' 'SFO'\n",
      " 'DFW' 'BOS' 'LAS' 'MSP' 'DTW' 'RSW' 'SJU' 'PHX' 'BWI' 'CLT' 'BUF' 'DEN'\n",
      " 'SNA' 'MSY' 'SLC' 'XNA' 'MKE' 'SEA' 'ROC' 'SYR' 'SRQ' 'RDU' 'CMH' 'JAX'\n",
      " 'CHS' 'MEM' 'PIT' 'SAN' 'DCA' 'CLE' 'STL' 'MYR' 'JAC' 'MDW' 'HNL' 'BNA'\n",
      " 'AUS' 'BTV' 'PHL' 'STT' 'EGE' 'AVL' 'PWM' 'IND' 'SAV' 'CAK' 'HOU' 'LGB'\n",
      " 'DAY' 'ALB' 'BDL' 'MHT' 'MSN' 'GSO' 'CVG' 'BUR' 'RIC' 'GSP' 'GRR' 'MCI'\n",
      " 'ORF' 'SAT' 'SDF' 'PDX' 'SJC' 'OMA' 'CRW' 'OAK' 'SMF' 'TUL' 'TYS' 'OKC'\n",
      " 'PVD' 'DSM' 'PSE' 'BHM' 'CAE' 'HDN' 'BZN' 'MTJ' 'EYW' 'PSP' 'ACK' 'BGR'\n",
      " 'ABQ' 'ILM' 'MVY' 'SBN' 'LEX' 'CHO' 'TVC' 'ANC' 'LGA']\n"
     ]
    },
    {
     "data": {
      "text/html": [
       "<div>\n",
       "<style scoped>\n",
       "    .dataframe tbody tr th:only-of-type {\n",
       "        vertical-align: middle;\n",
       "    }\n",
       "\n",
       "    .dataframe tbody tr th {\n",
       "        vertical-align: top;\n",
       "    }\n",
       "\n",
       "    .dataframe thead th {\n",
       "        text-align: right;\n",
       "    }\n",
       "</style>\n",
       "<table border=\"1\" class=\"dataframe\">\n",
       "  <thead>\n",
       "    <tr style=\"text-align: right;\">\n",
       "      <th></th>\n",
       "      <th>Unnamed: 0</th>\n",
       "      <th>year</th>\n",
       "      <th>month</th>\n",
       "      <th>day</th>\n",
       "      <th>dep_time</th>\n",
       "      <th>dep_delay</th>\n",
       "      <th>arr_time</th>\n",
       "      <th>arr_delay</th>\n",
       "      <th>carrier</th>\n",
       "      <th>tailnum</th>\n",
       "      <th>flight</th>\n",
       "      <th>origin</th>\n",
       "      <th>dest</th>\n",
       "      <th>air_time</th>\n",
       "      <th>distance</th>\n",
       "      <th>hour</th>\n",
       "      <th>minute</th>\n",
       "    </tr>\n",
       "  </thead>\n",
       "  <tbody>\n",
       "    <tr>\n",
       "      <th>0</th>\n",
       "      <td>1</td>\n",
       "      <td>2013</td>\n",
       "      <td>1</td>\n",
       "      <td>1</td>\n",
       "      <td>517.0</td>\n",
       "      <td>2.0</td>\n",
       "      <td>830.0</td>\n",
       "      <td>11.0</td>\n",
       "      <td>UA</td>\n",
       "      <td>N14228</td>\n",
       "      <td>1545</td>\n",
       "      <td>EWR</td>\n",
       "      <td>IAH</td>\n",
       "      <td>227.0</td>\n",
       "      <td>1400</td>\n",
       "      <td>5.0</td>\n",
       "      <td>17.0</td>\n",
       "    </tr>\n",
       "    <tr>\n",
       "      <th>1</th>\n",
       "      <td>2</td>\n",
       "      <td>2013</td>\n",
       "      <td>1</td>\n",
       "      <td>1</td>\n",
       "      <td>533.0</td>\n",
       "      <td>4.0</td>\n",
       "      <td>850.0</td>\n",
       "      <td>20.0</td>\n",
       "      <td>UA</td>\n",
       "      <td>N24211</td>\n",
       "      <td>1714</td>\n",
       "      <td>LGA</td>\n",
       "      <td>IAH</td>\n",
       "      <td>227.0</td>\n",
       "      <td>1416</td>\n",
       "      <td>5.0</td>\n",
       "      <td>33.0</td>\n",
       "    </tr>\n",
       "    <tr>\n",
       "      <th>2</th>\n",
       "      <td>3</td>\n",
       "      <td>2013</td>\n",
       "      <td>1</td>\n",
       "      <td>1</td>\n",
       "      <td>542.0</td>\n",
       "      <td>2.0</td>\n",
       "      <td>923.0</td>\n",
       "      <td>33.0</td>\n",
       "      <td>AA</td>\n",
       "      <td>N619AA</td>\n",
       "      <td>1141</td>\n",
       "      <td>JFK</td>\n",
       "      <td>MIA</td>\n",
       "      <td>160.0</td>\n",
       "      <td>1089</td>\n",
       "      <td>5.0</td>\n",
       "      <td>42.0</td>\n",
       "    </tr>\n",
       "    <tr>\n",
       "      <th>3</th>\n",
       "      <td>4</td>\n",
       "      <td>2013</td>\n",
       "      <td>1</td>\n",
       "      <td>1</td>\n",
       "      <td>544.0</td>\n",
       "      <td>-1.0</td>\n",
       "      <td>1004.0</td>\n",
       "      <td>-18.0</td>\n",
       "      <td>B6</td>\n",
       "      <td>N804JB</td>\n",
       "      <td>725</td>\n",
       "      <td>JFK</td>\n",
       "      <td>BQN</td>\n",
       "      <td>183.0</td>\n",
       "      <td>1576</td>\n",
       "      <td>5.0</td>\n",
       "      <td>44.0</td>\n",
       "    </tr>\n",
       "    <tr>\n",
       "      <th>4</th>\n",
       "      <td>5</td>\n",
       "      <td>2013</td>\n",
       "      <td>1</td>\n",
       "      <td>1</td>\n",
       "      <td>554.0</td>\n",
       "      <td>-6.0</td>\n",
       "      <td>812.0</td>\n",
       "      <td>-25.0</td>\n",
       "      <td>DL</td>\n",
       "      <td>N668DN</td>\n",
       "      <td>461</td>\n",
       "      <td>LGA</td>\n",
       "      <td>ATL</td>\n",
       "      <td>116.0</td>\n",
       "      <td>762</td>\n",
       "      <td>5.0</td>\n",
       "      <td>54.0</td>\n",
       "    </tr>\n",
       "  </tbody>\n",
       "</table>\n",
       "</div>"
      ],
      "text/plain": [
       "   Unnamed: 0  year  month  day  dep_time  dep_delay  arr_time  arr_delay  \\\n",
       "0           1  2013      1    1     517.0        2.0     830.0       11.0   \n",
       "1           2  2013      1    1     533.0        4.0     850.0       20.0   \n",
       "2           3  2013      1    1     542.0        2.0     923.0       33.0   \n",
       "3           4  2013      1    1     544.0       -1.0    1004.0      -18.0   \n",
       "4           5  2013      1    1     554.0       -6.0     812.0      -25.0   \n",
       "\n",
       "  carrier tailnum  flight origin dest  air_time  distance  hour  minute  \n",
       "0      UA  N14228    1545    EWR  IAH     227.0      1400   5.0    17.0  \n",
       "1      UA  N24211    1714    LGA  IAH     227.0      1416   5.0    33.0  \n",
       "2      AA  N619AA    1141    JFK  MIA     160.0      1089   5.0    42.0  \n",
       "3      B6  N804JB     725    JFK  BQN     183.0      1576   5.0    44.0  \n",
       "4      DL  N668DN     461    LGA  ATL     116.0       762   5.0    54.0  "
      ]
     },
     "execution_count": 7,
     "metadata": {},
     "output_type": "execute_result"
    }
   ],
   "source": [
    "a = flights_df.dest.unique() #all unique values in the \"dest\" column\n",
    "print(a)\n",
    "flights_df.head(5)"
   ]
  },
  {
   "cell_type": "markdown",
   "metadata": {},
   "source": [
    "##Some Tips\n",
    "\n",
    "* This assignment involves extensive Data frame splitting and aggregation. You should look into the details of the methods groupby, transform, sum, count, mean etc\n",
    "* Many of the tasks in the assignment can be done either through the Pandas Data Frame or by converting the data frames to Series. Many of the methods in the numpy are applicable to Series only. When stuck, try to explore the type of object (Pandas Data Frame or Numpy Series) you are dealing with."
   ]
  },
  {
   "cell_type": "markdown",
   "metadata": {},
   "source": [
    "##Question 1\n",
    "Let’s explore flights from NYC to Seattle. Use the flights dataset to answer the following questions.\n",
    "\n",
    "(a) How many flights were there from NYC airports to Seattle in 2013?"
   ]
  },
  {
   "cell_type": "code",
   "execution_count": 8,
   "metadata": {},
   "outputs": [
    {
     "data": {
      "text/plain": [
       "3923"
      ]
     },
     "execution_count": 8,
     "metadata": {},
     "output_type": "execute_result"
    }
   ],
   "source": [
    "# Your code here\n",
    "flights_df1=flights_df[ flights_df.dest=='SEA']\n",
    "flights_df1.shape[0]\n",
    "#flights_df1.dtypes\n",
    "\n",
    "#print(len(flights_df1.flight))"
   ]
  },
  {
   "cell_type": "markdown",
   "metadata": {},
   "source": [
    "there were 3923 flights from NYC to Seattle."
   ]
  },
  {
   "cell_type": "markdown",
   "metadata": {},
   "source": [
    "(b) How many airlines fly from NYC to Seattle?"
   ]
  },
  {
   "cell_type": "code",
   "execution_count": 9,
   "metadata": {},
   "outputs": [
    {
     "name": "stdout",
     "output_type": "stream",
     "text": [
      "5\n",
      "['AS' 'DL' 'UA' 'B6' 'AA']\n"
     ]
    }
   ],
   "source": [
    "flights_df1=flights_df[flights_df.dest=='SEA']\n",
    "print(len(flights_df1.carrier.unique()))\n",
    "print(flights_df1.carrier.unique())"
   ]
  },
  {
   "cell_type": "markdown",
   "metadata": {},
   "source": [
    "There are 5 airlines that fly from NYC to Seattle."
   ]
  },
  {
   "cell_type": "markdown",
   "metadata": {},
   "source": [
    "(c) How many unique air planes fly from NYC to Seattle?"
   ]
  },
  {
   "cell_type": "code",
   "execution_count": 10,
   "metadata": {},
   "outputs": [
    {
     "name": "stdout",
     "output_type": "stream",
     "text": [
      "936\n"
     ]
    }
   ],
   "source": [
    "# Your code here\n",
    "print(len(flights_df1.tailnum.unique()))"
   ]
  },
  {
   "cell_type": "markdown",
   "metadata": {},
   "source": [
    "There are 936 tail numbers"
   ]
  },
  {
   "cell_type": "markdown",
   "metadata": {},
   "source": [
    "(d) What is the average arrival delay for flights from NC to Seattle?"
   ]
  },
  {
   "cell_type": "code",
   "execution_count": 11,
   "metadata": {},
   "outputs": [
    {
     "name": "stdout",
     "output_type": "stream",
     "text": [
      "-1.0990990990990992\n"
     ]
    }
   ],
   "source": [
    "# Your code here\n",
    "#flights_df1['arr_delay'].mean()\n",
    "\n",
    "print(flights_df1.arr_delay.mean())"
   ]
  },
  {
   "cell_type": "markdown",
   "metadata": {},
   "source": [
    "The flights arrive almost one minute earlier on an average."
   ]
  },
  {
   "cell_type": "markdown",
   "metadata": {},
   "source": [
    "(e) What proportion of flights to Seattle come from each NYC airport? Provide multiple ways of answering the question."
   ]
  },
  {
   "cell_type": "code",
   "execution_count": 13,
   "metadata": {},
   "outputs": [
    {
     "name": "stdout",
     "output_type": "stream",
     "text": [
      "The airports in New York City with Flights to Seattle are: ['EWR' 'JFK']\n",
      "Propertion of flights from EWR to SEA: 0.46673464185572267\n",
      "Proportion of flights from JFK to SEA: 0.5332653581442773\n",
      "['EWR' 'JFK']\n"
     ]
    }
   ],
   "source": [
    "# Your code here\n",
    "nyc_airports = flights_df1.origin.unique()\n",
    "print(\"The airports in New York City with Flights to Seattle are:\",nyc_airports)\n",
    "prop_EWR = len(flights_df1[flights_df1.origin=='EWR'])/len(flights_df1.flight)\n",
    "print(\"Propertion of flights from EWR to SEA:\",prop_EWR)\n",
    "print(\"Proportion of flights from JFK to SEA:\", 1-prop_EWR)\n",
    "\n",
    "# find unique origins\n",
    "#nyc_origins = flights_df1['origin'].unique()\n",
    "print(nyc_origins)\n",
    "\n",
    "# d = {'col1': nyc_origins, 'col2': nyc_origins}\n",
    "# print(d)\n",
    "\n",
    "# for i in range(0, len(nyc_origins)):\n",
    "#                print(nyc_origins[i])\n",
    "\n",
    "# # a = flights_df1['origin' == ].count()\n",
    "# # b = \n"
   ]
  },
  {
   "cell_type": "markdown",
   "metadata": {},
   "source": [
    "There are 2 airports in New York City. They areL EWR (Newark Liberty International Airport) and JFK (John F. Kennedy International Airport)\n",
    "Of all the flights that fly to Seattle, aroudn 47% of them are from EWR whereas 53% are from JFK "
   ]
  },
  {
   "cell_type": "markdown",
   "metadata": {},
   "source": [
    "## Question 2\n",
    "Flights are often delayed. Consider the following questions exploring delay patterns.\n",
    "\n",
    "(a) Which date has the largest average departure delay? Which date has the largest average arrival delay?"
   ]
  },
  {
   "cell_type": "code",
   "execution_count": 14,
   "metadata": {},
   "outputs": [
    {
     "name": "stdout",
     "output_type": "stream",
     "text": [
      "The date with the highest average departure delay is: Date\n",
      "8-3-2013    83.536921\n",
      "Name: dep_delay, dtype: float64\n",
      "The date with the highest average arrival delay is: Date\n",
      "8-3-2013    85.862155\n",
      "Name: arr_delay, dtype: float64\n"
     ]
    }
   ],
   "source": [
    "flights_df3 = pd.DataFrame() #create a new empty data frame\n",
    "\n",
    "#filter only useful columns into new data frame\n",
    "flights_df3 = flights_df.filter(['year','month','day','flight','dep_delay','arr_delay'], axis=1) \n",
    "\n",
    "#create a new column called date that stores the full date as a string\n",
    "flights_df3['Date'] = flights_df3['day'].astype(str) + '-' + flights_df3['month'].astype(str) + '-' + flights_df3['year'].astype(str)\n",
    "\n",
    "#drop the unnecessary column and store it back into the same DF\n",
    "flights_df3 = flights_df3.drop(['day','month','year'], axis=1)\n",
    "\n",
    "#create a new DataFrameGroupBy object with the prev DF grouped by Date\n",
    "avg_by_date = pd.DataFrame(flights_df3.groupby('Date').mean())\n",
    "\n",
    "#sort the new object by the mean dep_delay and report the top 1\n",
    "print(\"The date with the highest average departure delay is:\",avg_by_date.sort_values(by='dep_delay', ascending=False)['dep_delay'].head(1))\n",
    "\n",
    "#sort the new object by the mean arr_delay and report the top 1\n",
    "print(\"The date with the highest average arrival delay is:\",avg_by_date.sort_values(by='arr_delay', ascending=False)['arr_delay'].head(1))\n"
   ]
  },
  {
   "cell_type": "markdown",
   "metadata": {},
   "source": [
    "The date with the highest average departure delay is 8th March 2013 with an average departure delay of 83.53 mins.\n",
    "The date with the highest average arrival delay is 8th March 2013 with an average arrival delay of 85.86 mins."
   ]
  },
  {
   "cell_type": "markdown",
   "metadata": {},
   "source": [
    "(b) What was the worst day to fly out of NYC in 2013 if you dislike delayed flights?\n"
   ]
  },
  {
   "cell_type": "code",
   "execution_count": 28,
   "metadata": {},
   "outputs": [
    {
     "name": "stdout",
     "output_type": "stream",
     "text": [
      "The worst day to fly out is: Date\n",
      "23-12-2013    674\n",
      "Name: flight, dtype: int64\n"
     ]
    }
   ],
   "source": [
    "flights_df['Date'] = flights_df['day'].astype(str) + '-' + flights_df['month'].astype(str) + '-' + flights_df['year'].astype(str)\n",
    "\n",
    "#select flights with positive departure delay into a new DF\n",
    "positive_delays = flights_df[flights_df['dep_delay']>0]\n",
    "\n",
    "#group by each day and count the number of flights\n",
    "delays_per_day = pd.DataFrame(positive_delays.groupby('Date').count().sort_values(by='dep_delay', ascending=False))\n",
    "\n",
    "print(\"The worst day to fly out is:\",delays_per_day['flight'].head(1))\n"
   ]
  },
  {
   "cell_type": "markdown",
   "metadata": {},
   "source": [
    "The worst day to fly out of NYC is 23rd December 2013 (probably because of the holiday season?) with 674 flights being delayed."
   ]
  },
  {
   "cell_type": "markdown",
   "metadata": {},
   "source": [
    "(c) Are there any seasonal patterns in departure delays for flights from NYC?"
   ]
  },
  {
   "cell_type": "code",
   "execution_count": 16,
   "metadata": {},
   "outputs": [
    {
     "name": "stdout",
     "output_type": "stream",
     "text": [
      "    month  dep_delay\n",
      "0       1  10.036665\n",
      "1       2  10.816843\n",
      "2       3  13.227076\n",
      "3       4  13.938038\n",
      "4       5  12.986859\n",
      "5       6  20.846332\n",
      "6       7  21.727787\n",
      "7       8  12.611040\n",
      "8       9   6.722476\n",
      "9      10   6.243988\n",
      "10     11   5.435362\n",
      "11     12  16.576688\n"
     ]
    },
    {
     "data": {
      "image/png": "[encoded data removed]",
      "text/plain": [
       "<Figure size 432x288 with 1 Axes>"
      ]
     },
     "metadata": {
      "needs_background": "light"
     },
     "output_type": "display_data"
    }
   ],
   "source": [
    "month_depDelay = flights_df.filter(['month','dep_delay'], axis=1) \n",
    "month_depDelay = pd.DataFrame(month_depDelay.groupby('month').mean())\n",
    "month_depDelay = month_depDelay.reset_index()\n",
    "print(month_depDelay)\n",
    "\n",
    "plt.plot(month_depDelay['dep_delay'])\n",
    "plt.xlabel('Months', size = 12)\n",
    "plt.ylabel('Average Departure Delays', size = 12)\n",
    "plt.title('Total Number of Delayed Flights by Month')\n",
    "plt.show()"
   ]
  },
  {
   "cell_type": "markdown",
   "metadata": {},
   "source": [
    "Here we can see that the average departure delays are highest in June and July. This might probably be because of the summer holidays. More people would be travelling during these months. We are able to see another spike in the Winter towrds December. Again it could be because of the holiday season, higher number of passengers would be traveling."
   ]
  },
  {
   "cell_type": "markdown",
   "metadata": {},
   "source": [
    "(d) On average, how do departure delays vary over the course of a day?"
   ]
  },
  {
   "cell_type": "code",
   "execution_count": 17,
   "metadata": {},
   "outputs": [
    {
     "name": "stdout",
     "output_type": "stream",
     "text": [
      "    hour   dep_delay\n",
      "0    0.0  128.642452\n",
      "1    1.0  207.049327\n",
      "2    2.0  239.921875\n",
      "3    3.0  304.727273\n",
      "4    4.0   -5.554098\n",
      "5    5.0   -4.355644\n",
      "6    6.0   -1.520552\n",
      "7    7.0    0.223289\n",
      "8    8.0    1.091432\n",
      "9    9.0    4.268295\n",
      "10  10.0    5.548644\n",
      "11  11.0    5.652309\n",
      "12  12.0    7.601892\n",
      "13  13.0    9.380639\n",
      "14  14.0    8.090381\n",
      "15  15.0   10.682049\n",
      "16  16.0   13.621150\n",
      "17  17.0   16.756593\n",
      "18  18.0   18.664671\n",
      "19  19.0   21.497342\n",
      "20  20.0   28.266213\n",
      "21  21.0   42.064964\n",
      "22  22.0   68.190042\n",
      "23  23.0   96.946865\n",
      "24  24.0   64.862069\n"
     ]
    },
    {
     "data": {
      "image/png": "[encoded data removed]",
      "text/plain": [
       "<Figure size 432x288 with 1 Axes>"
      ]
     },
     "metadata": {
      "needs_background": "light"
     },
     "output_type": "display_data"
    }
   ],
   "source": [
    "daily_depDelay = flights_df.filter(['hour','dep_delay'], axis=1) #new DF with hours and dep_delay columns\n",
    "#daily_depDelay = daily_depDelay.dropna(how='all')\n",
    "daily_depDelay = pd.DataFrame(daily_depDelay.groupby('hour').mean()) #group by the hour and calculate the mean of Dep Delay\n",
    "daily_depDelay = daily_depDelay.reset_index()\n",
    "\n",
    "print(daily_depDelay)\n",
    "\n",
    "\n",
    "#plot\n",
    "plt.plot(daily_depDelay['dep_delay'])\n",
    "plt.xlabel('Hours')\n",
    "plt.ylabel('Average Departure Delays')\n",
    "plt.title('Departure delays over a full day')\n",
    "plt.show()\n"
   ]
  },
  {
   "cell_type": "markdown",
   "metadata": {},
   "source": [
    "Here we see that the delays peak at 2 different times of the day. One in the early hours of the day. In fact, the departure delays increase steadily from 00:00 to 03:00. This might be because of shortage in airport staff at that time. Again we see the average departure delays increasing from 20:00 all the way till 23:00. This might be because of low visibility conditions at night. "
   ]
  },
  {
   "cell_type": "markdown",
   "metadata": {},
   "source": [
    "## Question 3\n",
    "    Which flight departing NYC in 2013 flew the fastest?"
   ]
  },
  {
   "cell_type": "code",
   "execution_count": 18,
   "metadata": {},
   "outputs": [
    {
     "name": "stdout",
     "output_type": "stream",
     "text": [
      "Fastest Flight:\n",
      "             Date  flight origin dest       speed\n",
      "216447  25-5-2013    1499    LGA  ATL  703.384615\n"
     ]
    }
   ],
   "source": [
    "flights_df['Date'] = flights_df['day'].astype(str) + '-' + flights_df['month'].astype(str) + '-' + flights_df['year'].astype(str)\n",
    "\n",
    "#calculate speed and store it in a new column \"speed\". This is in mph\n",
    "flights_df['speed'] = flights_df['distance']/(flights_df['air_time']/60)\n",
    "\n",
    "fastest_flight = flights_df.filter(['Date','flight','origin','dest','speed'], axis=1).sort_values(by='speed', ascending=False).head(1)\n",
    "\n",
    "print(\"Fastest Flight:\")\n",
    "print(fastest_flight)\n"
   ]
  },
  {
   "cell_type": "markdown",
   "metadata": {},
   "source": [
    "The fastest flight was flight 1499 on 25th of May 2013, which flew at a speed of 703.38 mph from LaGuardia Airport to Hartsfield-Jackson Atlanta International Airport."
   ]
  },
  {
   "cell_type": "markdown",
   "metadata": {},
   "source": [
    "## Question 4\n",
    "Which flights (i.e. carrier + flight + dest) happen every day? Where do they fly to?"
   ]
  },
  {
   "cell_type": "code",
   "execution_count": 19,
   "metadata": {},
   "outputs": [
    {
     "name": "stdout",
     "output_type": "stream",
     "text": [
      "Flights that fly everyday:\n",
      "   carrier  flight dest\n",
      "0       AA    1611  MIA\n",
      "1       B6     703  SJU\n",
      "2       AA    1357  SJU\n",
      "3       VX     413  LAX\n",
      "4       B6     219  CLT\n",
      "5       UA      15  HNL\n",
      "6       B6     359  BUR\n",
      "7       B6     371  FLL\n",
      "8       B6     431  SRQ\n",
      "9       AA     181  LAX\n",
      "10      DL    2159  MCO\n",
      "11      AA     119  LAX\n",
      "12      VX     407  LAX\n",
      "13      EV    5712  IAD\n",
      "14      VX     251  LAS\n",
      "15      AA      59  SFO\n",
      "16      B6    1783  MCO\n",
      "17      DL    2391  TPA\n",
      "\n",
      "\n",
      "Destinations with daily flights from NYC:\n"
     ]
    },
    {
     "data": {
      "text/plain": [
       "array(['MIA', 'SJU', 'LAX', 'CLT', 'HNL', 'BUR', 'FLL', 'SRQ', 'MCO',\n",
       "       'IAD', 'LAS', 'SFO', 'TPA'], dtype=object)"
      ]
     },
     "execution_count": 19,
     "metadata": {},
     "output_type": "execute_result"
    }
   ],
   "source": [
    "flights_daily = flights_df.filter(['carrier','flight','dest','Date'], axis=1)\n",
    "flights_daily.head(10)\n",
    "\n",
    "#get the number of days each flight flies to each of its respective restinations.\n",
    "flights_daily = pd.DataFrame(flights_daily.groupby(['carrier','flight','dest'])['Date'].nunique()).reset_index()\n",
    "\n",
    "#sort it in descending order to get the flights that fly everyday\n",
    "flights_daily = flights_daily.sort_values(by='Date', ascending=False)\n",
    "\n",
    "#subset it for the flights that fly on all 365 days\n",
    "flights_daily = flights_daily[flights_daily.Date==365].reset_index()\n",
    "flights_daily1 = flights_daily.filter(['carrier','flight','dest'])\n",
    "print(\"Flights that fly everyday:\")\n",
    "print(flights_daily1)\n",
    "print('\\n')\n",
    "#get list of unique destinations\n",
    "print(\"Destinations with daily flights from NYC:\")\n",
    "flights_daily['dest'].unique()"
   ]
  },
  {
   "cell_type": "markdown",
   "metadata": {},
   "source": [
    "18 flights fly everyday to 13 destinations. The destinations are: \n",
    "1. MIA (Miami International Airport)\n",
    "2. SJU (Luis Muñoz Marín International Airport)\n",
    "3. LAX (Los Angeles International Airport)\n",
    "4. CLT (Charlotte Douglas International Airport, NC)\n",
    "5. HNL (Daniel K. Inouye International Airport, Honolulu)\n",
    "6. BUR (Hollywood Burbank Airport \n",
    "7. FLL (Fort Lauderdale-Hollywood International Airport, FL)\n",
    "8. SRQ (Sarasota-Bradenton International Airport, FL)\n",
    "9. MCQ (Orlando International Airport)\n",
    "10. IAD (Dulles International Airport, DC)\n",
    "11. LAS (McCarran International Airport, Las Vegas)\n",
    "12. SFO (San Francisco International Airport, CA)\n",
    "13. TPA (Tampa International Airport, FL)"
   ]
  },
  {
   "cell_type": "markdown",
   "metadata": {},
   "source": [
    "## Question 5\n",
    "Develop one research question you can address using the nycflights2013 dataset. Provide two visualizations to support your exploration of this question. Discuss what you find.\n"
   ]
  },
  {
   "cell_type": "code",
   "execution_count": 59,
   "metadata": {},
   "outputs": [
    {
     "name": "stdout",
     "output_type": "stream",
     "text": [
      "   carrier  dep_delay\n",
      "6       F9  20.215543\n",
      "5       EV  19.955390\n",
      "15      YV  18.996330\n",
      "7       FL  18.726075\n",
      "14      WN  17.711744\n",
      "0       9E  16.725769\n",
      "3       B6  13.022522\n",
      "13      VX  12.869421\n",
      "10      OO  12.586207\n",
      "11      UA  12.106073\n",
      "9       MQ  10.552041\n",
      "4       DL   9.264505\n",
      "1       AA   8.586016\n",
      "2       AS   5.804775\n",
      "8       HA   4.900585\n",
      "12      US   3.782418\n"
     ]
    },
    {
     "data": {
      "image/png": "[encoded data removed]",
      "text/plain": [
       "<Figure size 360x360 with 1 Axes>"
      ]
     },
     "metadata": {
      "needs_background": "light"
     },
     "output_type": "display_data"
    }
   ],
   "source": [
    "flights_df4 = flights_df.filter(['carrier','dep_delay','arr_delay','air_time','distance'], axis=1)\n",
    "flights_df4['speed_in_mph'] = flights_df4['distance']/(flights_df4['air_time']/60)\n",
    "#flights_df4.head(10)\n",
    "most_delayed_airlines = pd.DataFrame(flights_df4.groupby('carrier').mean()).reset_index()\n",
    "\n",
    "\n",
    "#check for departure delays for each airline\n",
    "most_delayed_airlines_departure = most_delayed_airlines.filter(['carrier','dep_delay'], axis=1).sort_values(by='dep_delay', ascending=False)\n",
    "print(most_delayed_airlines_departure)\n",
    "\n",
    "\n",
    "#plot the bar chart\n",
    "most_delayed_airlines_departure.plot(kind='bar', title =\"Departure Delays of airlines from NYC\",figsize=(5,5),legend=True, fontsize=12)\n",
    "plt.xlabel('Carrier')\n",
    "plt.ylabel('Mean Departure Delay')\n",
    "plt.show()\n",
    "plt.close()"
   ]
  },
  {
   "cell_type": "code",
   "execution_count": 62,
   "metadata": {},
   "outputs": [
    {
     "name": "stdout",
     "output_type": "stream",
     "text": [
      "   carrier  arr_delay\n",
      "6       F9  21.920705\n",
      "7       FL  20.115906\n",
      "5       EV  15.796431\n",
      "15      YV  15.556985\n",
      "10      OO  11.931034\n",
      "9       MQ  10.774733\n",
      "14      WN   9.649120\n",
      "3       B6   9.457973\n",
      "0       9E   7.379669\n",
      "11      UA   3.558011\n",
      "12      US   2.129595\n",
      "13      VX   1.764464\n",
      "4       DL   1.644341\n",
      "1       AA   0.364291\n",
      "8       HA  -6.915205\n",
      "2       AS  -9.930889\n"
     ]
    },
    {
     "data": {
      "image/png": "[encoded data removed]",
      "text/plain": [
       "<Figure size 360x360 with 1 Axes>"
      ]
     },
     "metadata": {
      "needs_background": "light"
     },
     "output_type": "display_data"
    }
   ],
   "source": [
    "#check for arrival delays for each airline\n",
    "most_delayed_arrival = most_delayed_airlines.filter(['carrier','arr_delay'], axis=1).sort_values(by='arr_delay', ascending=False)\n",
    "\n",
    "print(most_delayed_arrival)\n",
    "\n",
    "#plot the bar chart\n",
    "most_delayed_arrival.plot(kind='bar', title =\"Arrival Delays of airlines from NYC\",figsize=(5,5),legend=True, fontsize=12)\n",
    "plt.xlabel('Carrier')\n",
    "plt.ylabel('Mean Arrival Delay')\n",
    "plt.show()\n",
    "plt.close()\n"
   ]
  },
  {
   "cell_type": "markdown",
   "metadata": {},
   "source": [
    "Research Question: Which airline is the most delayed at all NYC airports?\n",
    "\n",
    "To answer this question, I have explored which carriers have the most average departure and arrival delays.\n",
    "From the first plot, we can see that carrier F9 (Frontier Airlines) has the highest average departure delay (20 mins). This means that every Frontier airlines flight on an average, departed 20 mins later than its scheduled departure time.  \n",
    "\n",
    "In the second plot, we can see that carrier F9 (Frontier Airlines) again has the highest arrival delay of about 22 mins. This means that all Frontier airlines flights, on an average arrived 22 mins later than the scheduled arrival time.\n",
    "\n",
    "Finall we can say that, Frontier is the most delayed airline from NYC in 2013."
   ]
  },
  {
   "cell_type": "markdown",
   "metadata": {},
   "source": [
    "## Question 6\n",
    "What weather conditions are associated with flight delays leaving NYC? Use graphics to explore."
   ]
  },
  {
   "cell_type": "code",
   "execution_count": 6,
   "metadata": {},
   "outputs": [],
   "source": [
    "#load the weather CSV file\n",
    "Tk().withdraw() # we don't want a full GUI, so keep the root window from appearing\n",
    "filename = askopenfilename() # show an \"Open\" dialog box and return the path to the selected file\n",
    "weather_df=pd.read_csv(filename)\n"
   ]
  },
  {
   "cell_type": "code",
   "execution_count": 8,
   "metadata": {},
   "outputs": [],
   "source": [
    "#drop all the rows where hour of departure is NA or NaN\n",
    "flights_df = flights_df.dropna(subset=['hour'])\n",
    "\n",
    "#merge weather and flights data on 'origin','year','month','day','hour'\n",
    "merged_flights_weather = pd.merge(flights_df,weather_df, how = 'left', on = ['origin','year','month','day','hour'])"
   ]
  },
  {
   "cell_type": "code",
   "execution_count": 12,
   "metadata": {},
   "outputs": [],
   "source": [
    "#drop all rows which dont have any temperature data\n",
    "merged_flights_weather = merged_flights_weather.dropna(subset=['temp'])\n",
    "\n",
    "#store this dataframe in a csv\n",
    "merged_flights_weather.to_csv(r'C:\\Users\\ashwi\\OneDrive\\Documents\\DS 2 Assignment\\mergedDF.csv')"
   ]
  },
  {
   "cell_type": "code",
   "execution_count": 30,
   "metadata": {},
   "outputs": [
    {
     "data": {
      "text/html": [
       "<div>\n",
       "<style scoped>\n",
       "    .dataframe tbody tr th:only-of-type {\n",
       "        vertical-align: middle;\n",
       "    }\n",
       "\n",
       "    .dataframe tbody tr th {\n",
       "        vertical-align: top;\n",
       "    }\n",
       "\n",
       "    .dataframe thead th {\n",
       "        text-align: right;\n",
       "    }\n",
       "</style>\n",
       "<table border=\"1\" class=\"dataframe\">\n",
       "  <thead>\n",
       "    <tr style=\"text-align: right;\">\n",
       "      <th></th>\n",
       "      <th>month</th>\n",
       "      <th>day</th>\n",
       "      <th>dep_delay</th>\n",
       "      <th>temp</th>\n",
       "      <th>humid</th>\n",
       "      <th>visib</th>\n",
       "      <th>dewp</th>\n",
       "      <th>wind_dir</th>\n",
       "      <th>wind_speed</th>\n",
       "      <th>wind_gust</th>\n",
       "      <th>precip</th>\n",
       "      <th>pressure</th>\n",
       "    </tr>\n",
       "  </thead>\n",
       "  <tbody>\n",
       "    <tr>\n",
       "      <th>0</th>\n",
       "      <td>1</td>\n",
       "      <td>1</td>\n",
       "      <td>17.809365</td>\n",
       "      <td>39.251773</td>\n",
       "      <td>60.857391</td>\n",
       "      <td>10.000000</td>\n",
       "      <td>26.815518</td>\n",
       "      <td>266.856187</td>\n",
       "      <td>12.808682</td>\n",
       "      <td>14.739975</td>\n",
       "      <td>0.0</td>\n",
       "      <td>1012.103876</td>\n",
       "    </tr>\n",
       "    <tr>\n",
       "      <th>1</th>\n",
       "      <td>1</td>\n",
       "      <td>2</td>\n",
       "      <td>25.322674</td>\n",
       "      <td>28.109070</td>\n",
       "      <td>48.170145</td>\n",
       "      <td>10.000000</td>\n",
       "      <td>10.857849</td>\n",
       "      <td>307.238372</td>\n",
       "      <td>11.889163</td>\n",
       "      <td>13.681811</td>\n",
       "      <td>0.0</td>\n",
       "      <td>1017.502907</td>\n",
       "    </tr>\n",
       "    <tr>\n",
       "      <th>2</th>\n",
       "      <td>1</td>\n",
       "      <td>3</td>\n",
       "      <td>8.450450</td>\n",
       "      <td>29.395135</td>\n",
       "      <td>54.852793</td>\n",
       "      <td>10.000000</td>\n",
       "      <td>14.825405</td>\n",
       "      <td>279.297125</td>\n",
       "      <td>7.671867</td>\n",
       "      <td>8.828631</td>\n",
       "      <td>0.0</td>\n",
       "      <td>1021.213814</td>\n",
       "    </tr>\n",
       "    <tr>\n",
       "      <th>3</th>\n",
       "      <td>1</td>\n",
       "      <td>4</td>\n",
       "      <td>12.103858</td>\n",
       "      <td>34.165341</td>\n",
       "      <td>56.021513</td>\n",
       "      <td>10.000000</td>\n",
       "      <td>19.829436</td>\n",
       "      <td>246.735905</td>\n",
       "      <td>14.789401</td>\n",
       "      <td>17.019347</td>\n",
       "      <td>0.0</td>\n",
       "      <td>1017.344807</td>\n",
       "    </tr>\n",
       "    <tr>\n",
       "      <th>4</th>\n",
       "      <td>1</td>\n",
       "      <td>5</td>\n",
       "      <td>5.696203</td>\n",
       "      <td>36.880506</td>\n",
       "      <td>48.198017</td>\n",
       "      <td>10.000000</td>\n",
       "      <td>18.827342</td>\n",
       "      <td>281.898734</td>\n",
       "      <td>11.736014</td>\n",
       "      <td>13.505570</td>\n",
       "      <td>0.0</td>\n",
       "      <td>1022.164135</td>\n",
       "    </tr>\n",
       "    <tr>\n",
       "      <th>5</th>\n",
       "      <td>1</td>\n",
       "      <td>6</td>\n",
       "      <td>12.383333</td>\n",
       "      <td>39.321800</td>\n",
       "      <td>66.311467</td>\n",
       "      <td>8.823333</td>\n",
       "      <td>28.035800</td>\n",
       "      <td>232.366667</td>\n",
       "      <td>9.213912</td>\n",
       "      <td>10.603185</td>\n",
       "      <td>0.0</td>\n",
       "      <td>1018.178261</td>\n",
       "    </tr>\n",
       "    <tr>\n",
       "      <th>6</th>\n",
       "      <td>1</td>\n",
       "      <td>7</td>\n",
       "      <td>9.777778</td>\n",
       "      <td>41.163158</td>\n",
       "      <td>54.448538</td>\n",
       "      <td>10.000000</td>\n",
       "      <td>24.922105</td>\n",
       "      <td>292.192982</td>\n",
       "      <td>9.428320</td>\n",
       "      <td>10.849922</td>\n",
       "      <td>0.0</td>\n",
       "      <td>1024.024269</td>\n",
       "    </tr>\n",
       "    <tr>\n",
       "      <th>7</th>\n",
       "      <td>1</td>\n",
       "      <td>8</td>\n",
       "      <td>3.807229</td>\n",
       "      <td>38.261506</td>\n",
       "      <td>65.685602</td>\n",
       "      <td>9.665663</td>\n",
       "      <td>27.116145</td>\n",
       "      <td>208.042169</td>\n",
       "      <td>8.020798</td>\n",
       "      <td>9.230174</td>\n",
       "      <td>0.0</td>\n",
       "      <td>1028.763253</td>\n",
       "    </tr>\n",
       "    <tr>\n",
       "      <th>8</th>\n",
       "      <td>1</td>\n",
       "      <td>9</td>\n",
       "      <td>3.131343</td>\n",
       "      <td>40.449791</td>\n",
       "      <td>71.495701</td>\n",
       "      <td>8.623881</td>\n",
       "      <td>31.734030</td>\n",
       "      <td>103.552239</td>\n",
       "      <td>3.613793</td>\n",
       "      <td>4.158680</td>\n",
       "      <td>0.0</td>\n",
       "      <td>1026.600299</td>\n",
       "    </tr>\n",
       "    <tr>\n",
       "      <th>9</th>\n",
       "      <td>1</td>\n",
       "      <td>10</td>\n",
       "      <td>5.580175</td>\n",
       "      <td>43.888921</td>\n",
       "      <td>48.158630</td>\n",
       "      <td>10.000000</td>\n",
       "      <td>24.663557</td>\n",
       "      <td>295.393586</td>\n",
       "      <td>10.155717</td>\n",
       "      <td>11.686996</td>\n",
       "      <td>0.0</td>\n",
       "      <td>1030.200292</td>\n",
       "    </tr>\n",
       "  </tbody>\n",
       "</table>\n",
       "</div>"
      ],
      "text/plain": [
       "   month  day  dep_delay       temp      humid      visib       dewp  \\\n",
       "0      1    1  17.809365  39.251773  60.857391  10.000000  26.815518   \n",
       "1      1    2  25.322674  28.109070  48.170145  10.000000  10.857849   \n",
       "2      1    3   8.450450  29.395135  54.852793  10.000000  14.825405   \n",
       "3      1    4  12.103858  34.165341  56.021513  10.000000  19.829436   \n",
       "4      1    5   5.696203  36.880506  48.198017  10.000000  18.827342   \n",
       "5      1    6  12.383333  39.321800  66.311467   8.823333  28.035800   \n",
       "6      1    7   9.777778  41.163158  54.448538  10.000000  24.922105   \n",
       "7      1    8   3.807229  38.261506  65.685602   9.665663  27.116145   \n",
       "8      1    9   3.131343  40.449791  71.495701   8.623881  31.734030   \n",
       "9      1   10   5.580175  43.888921  48.158630  10.000000  24.663557   \n",
       "\n",
       "     wind_dir  wind_speed  wind_gust  precip     pressure  \n",
       "0  266.856187   12.808682  14.739975     0.0  1012.103876  \n",
       "1  307.238372   11.889163  13.681811     0.0  1017.502907  \n",
       "2  279.297125    7.671867   8.828631     0.0  1021.213814  \n",
       "3  246.735905   14.789401  17.019347     0.0  1017.344807  \n",
       "4  281.898734   11.736014  13.505570     0.0  1022.164135  \n",
       "5  232.366667    9.213912  10.603185     0.0  1018.178261  \n",
       "6  292.192982    9.428320  10.849922     0.0  1024.024269  \n",
       "7  208.042169    8.020798   9.230174     0.0  1028.763253  \n",
       "8  103.552239    3.613793   4.158680     0.0  1026.600299  \n",
       "9  295.393586   10.155717  11.686996     0.0  1030.200292  "
      ]
     },
     "execution_count": 30,
     "metadata": {},
     "output_type": "execute_result"
    }
   ],
   "source": [
    "#group by each month to see the relationship of average delay with other weather conditions\n",
    "merged_flights_weather_group= merged_flights_weather_group.groupby(['month','day'],as_index = False).agg({'dep_delay':'mean','temp':'mean','humid':'mean','visib':'mean','dewp':'mean','wind_dir':'mean','wind_speed':'mean','wind_gust':'mean','precip':'mean','pressure':'mean'})\n",
    "#merged_flights_weather_group = pd.DataFrame(merged_flights_weather.groupby(['month','day']).mean()).reset_index()\n",
    "merged_flights_weather_group.head(10)"
   ]
  },
  {
   "cell_type": "code",
   "execution_count": 40,
   "metadata": {},
   "outputs": [
    {
     "data": {
      "image/png": "[encoded data removed]",
      "text/plain": [
       "<Figure size 432x288 with 1 Axes>"
      ]
     },
     "metadata": {
      "needs_background": "light"
     },
     "output_type": "display_data"
    },
    {
     "name": "stdout",
     "output_type": "stream",
     "text": [
      "Correlation coeff = 0.40896495977582265\n"
     ]
    },
    {
     "data": {
      "image/png": "[encoded data removed]",
      "text/plain": [
       "<Figure size 432x288 with 1 Axes>"
      ]
     },
     "metadata": {
      "needs_background": "light"
     },
     "output_type": "display_data"
    },
    {
     "name": "stdout",
     "output_type": "stream",
     "text": [
      "Correlation coeff = 0.09439336061412584\n"
     ]
    },
    {
     "data": {
      "image/png": "[encoded data removed]",
      "text/plain": [
       "<Figure size 432x288 with 1 Axes>"
      ]
     },
     "metadata": {
      "needs_background": "light"
     },
     "output_type": "display_data"
    },
    {
     "name": "stdout",
     "output_type": "stream",
     "text": [
      "Correlation coeff = -0.41008792779885583\n"
     ]
    },
    {
     "data": {
      "image/png": "[encoded data removed]",
      "text/plain": [
       "<Figure size 432x288 with 1 Axes>"
      ]
     },
     "metadata": {
      "needs_background": "light"
     },
     "output_type": "display_data"
    },
    {
     "name": "stdout",
     "output_type": "stream",
     "text": [
      "Correlation coeff = 0.21815214525725862\n"
     ]
    },
    {
     "data": {
      "image/png": "[encoded data removed]",
      "text/plain": [
       "<Figure size 432x288 with 1 Axes>"
      ]
     },
     "metadata": {
      "needs_background": "light"
     },
     "output_type": "display_data"
    },
    {
     "name": "stdout",
     "output_type": "stream",
     "text": [
      "Correlation coeff = 0.01711991983247488\n"
     ]
    },
    {
     "data": {
      "image/png": "[encoded data removed]",
      "text/plain": [
       "<Figure size 432x288 with 1 Axes>"
      ]
     },
     "metadata": {
      "needs_background": "light"
     },
     "output_type": "display_data"
    },
    {
     "name": "stdout",
     "output_type": "stream",
     "text": [
      "Correlation coeff = 0.017119919832475093\n"
     ]
    },
    {
     "data": {
      "image/png": "[encoded data removed]",
      "text/plain": [
       "<Figure size 432x288 with 1 Axes>"
      ]
     },
     "metadata": {
      "needs_background": "light"
     },
     "output_type": "display_data"
    },
    {
     "name": "stdout",
     "output_type": "stream",
     "text": [
      "Correlation coeff = 0.3114767521394567\n"
     ]
    }
   ],
   "source": [
    "#-----------------plots--------------------------------------\n",
    "\n",
    "plt.scatter(merged_flights_weather_group['humid'], merged_flights_weather_group['dep_delay'])\n",
    "plt.xlabel('Humidity')\n",
    "plt.ylabel('Mean Departure delay')\n",
    "plt.title('Mean Humidity vs Mean Departure delay')\n",
    "plt.show()\n",
    "plt.close()\n",
    "print(\"Correlation coeff =\",np.corrcoef(merged_flights_weather_group['humid'], merged_flights_weather_group['dep_delay'])[0][1])\n",
    "\n",
    "\n",
    "plt.scatter(merged_flights_weather_group['temp'], merged_flights_weather_group['dep_delay'])\n",
    "plt.xlabel('Mean Temperature')\n",
    "plt.ylabel('Mean Departure delay')\n",
    "plt.title('Mean Temp vs Mean Departure delay')\n",
    "plt.show()\n",
    "plt.close()\n",
    "print(\"Correlation coeff =\",np.corrcoef(merged_flights_weather_group['temp'], merged_flights_weather_group['dep_delay'])[0][1])\n",
    "\n",
    "plt.scatter(merged_flights_weather_group['visib'], merged_flights_weather_group['dep_delay'])\n",
    "plt.xlabel('Mean Visibility')\n",
    "plt.ylabel('Mean Departure delay')\n",
    "plt.title('Mean Visibility vs Mean Departure delay')\n",
    "plt.show()\n",
    "plt.close()\n",
    "print(\"Correlation coeff =\",np.corrcoef(merged_flights_weather_group['visib'], merged_flights_weather_group['dep_delay'])[0][1])\n",
    "\n",
    "plt.scatter(merged_flights_weather_group['dewp'], merged_flights_weather_group['dep_delay'])\n",
    "plt.xlabel('Mean Dew')\n",
    "plt.ylabel('Mean Departure delay')\n",
    "plt.title('Mean Dew vs Mean Departure delay')\n",
    "plt.show()\n",
    "plt.close()\n",
    "print(\"Correlation coeff =\",np.corrcoef(merged_flights_weather_group['dewp'], merged_flights_weather_group['dep_delay'])[0][1])\n",
    "\n",
    "plt.scatter(merged_flights_weather_group['wind_speed'], merged_flights_weather_group['dep_delay'])\n",
    "plt.xlabel('Mean Wind Speed')\n",
    "plt.ylabel('Mean Departure delay')\n",
    "plt.title('Mean Wind Speed vs Mean Departure delay')\n",
    "plt.show()\n",
    "plt.close()\n",
    "print(\"Correlation coeff =\",np.corrcoef(merged_flights_weather_group['wind_speed'], merged_flights_weather_group['dep_delay'])[0][1])\n",
    "\n",
    "plt.scatter(merged_flights_weather_group['wind_gust'], merged_flights_weather_group['dep_delay'])\n",
    "plt.xlabel('Mean Wind Gust')\n",
    "plt.ylabel('Mean Departure delay')\n",
    "plt.title('Mean Wind Gust vs Mean Departure delay')\n",
    "plt.show()\n",
    "plt.close()\n",
    "print(\"Correlation coeff =\",np.corrcoef(merged_flights_weather_group['wind_gust'], merged_flights_weather_group['dep_delay'])[0][1])\n",
    "\n",
    "plt.scatter(merged_flights_weather_group['precip'], merged_flights_weather_group['dep_delay'])\n",
    "plt.xlabel('Mean Precipitation')\n",
    "plt.ylabel('Mean Departure delay')\n",
    "plt.title('Mean Precipitation vs Mean Departure delay')\n",
    "plt.show()\n",
    "plt.close()\n",
    "print(\"Correlation coeff =\",np.corrcoef(merged_flights_weather_group['precip'], merged_flights_weather_group['dep_delay'])[0][1])"
   ]
  },
  {
   "cell_type": "markdown",
   "metadata": {},
   "source": [
    "Observations:\n",
    "1. Roughly, delays increase with increase in humidity (correlation: 41%)\n",
    "2. Temperature does not affect departure delays much\n",
    "3. We can see that the corr. co-eff of visibility is negative (-0.41). This means that departure delays decrese with increase in visibility\n",
    "4. Wind speed and wind gust do not cause much delays in departure\n",
    "5. There is a positive correlation between precipitation and departure delays (corr. coeff = 0.31). This means that delays increase with increase in precipitation as well."
   ]
  },
  {
   "cell_type": "code",
   "execution_count": null,
   "metadata": {},
   "outputs": [],
   "source": []
  }
 ],
 "metadata": {
  "kernelspec": {
   "display_name": "Python 3",
   "language": "python",
   "name": "python3"
  },
  "language_info": {
   "codemirror_mode": {
    "name": "ipython",
    "version": 3
   },
   "file_extension": ".py",
   "mimetype": "text/x-python",
   "name": "python",
   "nbconvert_exporter": "python",
   "pygments_lexer": "ipython3",
   "version": "3.7.1"
  }
 },
 "nbformat": 4,
 "nbformat_minor": 1
}
